{
 "cells": [
  {
   "cell_type": "markdown",
   "id": "f2fda291-d184-459f-9697-f409b196f25c",
   "metadata": {},
   "source": [
    "# Digit Recognizer"
   ]
  },
  {
   "cell_type": "markdown",
   "id": "5a99a928-a966-461e-9765-87b388db4b27",
   "metadata": {},
   "source": [
    "## 1. Import"
   ]
  },
  {
   "cell_type": "code",
   "execution_count": 1,
   "id": "67320494-b594-42b8-9564-1209d36f3133",
   "metadata": {},
   "outputs": [],
   "source": [
    "import pandas as pd\n",
    "import numpy as np\n",
    "import matplotlib.pyplot as plt\n",
    "import matplotlib.image as mpimg\n",
    "import seaborn as sns\n",
    "%matplotlib inline\n",
    "\n",
    "from sklearn.model_selection import train_test_split\n",
    "from sklearn.metrics import confusion_matrix\n",
    "import itertools\n",
    "\n",
    "from keras.utils.np_utils import to_categorical # convert to one-hot-encoding\n",
    "from keras.models import Sequential\n",
    "from keras.layers import Dense, Dropout, Flatten, Conv2D, MaxPool2D\n",
    "from keras.optimizers import RMSprop\n",
    "from keras.preprocessing.image import ImageDataGenerator\n",
    "from keras.callbacks import ReduceLROnPlateau"
   ]
  },
  {
   "cell_type": "code",
   "execution_count": 2,
   "id": "aa85de82-bcce-49a9-a04b-0a5ff20f45e5",
   "metadata": {},
   "outputs": [],
   "source": [
    "np.random.seed(2)\n",
    "\n",
    "sns.set(style='white', context='notebook', palette='deep')"
   ]
  },
  {
   "cell_type": "markdown",
   "id": "9fa31966-ac7a-4d12-a35b-8d0b845a1822",
   "metadata": {},
   "source": [
    "## 2. Data preparation"
   ]
  },
  {
   "cell_type": "markdown",
   "id": "0272768b-095d-4d0b-acf1-d6f54ea303b2",
   "metadata": {},
   "source": [
    "### 2.1 Load data"
   ]
  },
  {
   "cell_type": "code",
   "execution_count": 3,
   "id": "f09528da-6daa-4f2b-8323-d1e418c1164c",
   "metadata": {},
   "outputs": [],
   "source": [
    "# Load the data\n",
    "df_train = pd.read_csv('../data/raw/train.csv')\n",
    "df_test = pd.read_csv('../data/raw/test.csv')"
   ]
  },
  {
   "cell_type": "code",
   "execution_count": 4,
   "id": "b3455049-f950-45c4-9cd3-1dad25f11322",
   "metadata": {},
   "outputs": [
    {
     "data": {
      "text/html": [
       "<div>\n",
       "<style scoped>\n",
       "    .dataframe tbody tr th:only-of-type {\n",
       "        vertical-align: middle;\n",
       "    }\n",
       "\n",
       "    .dataframe tbody tr th {\n",
       "        vertical-align: top;\n",
       "    }\n",
       "\n",
       "    .dataframe thead th {\n",
       "        text-align: right;\n",
       "    }\n",
       "</style>\n",
       "<table border=\"1\" class=\"dataframe\">\n",
       "  <thead>\n",
       "    <tr style=\"text-align: right;\">\n",
       "      <th></th>\n",
       "      <th>label</th>\n",
       "      <th>pixel0</th>\n",
       "      <th>pixel1</th>\n",
       "      <th>pixel2</th>\n",
       "      <th>pixel3</th>\n",
       "      <th>pixel4</th>\n",
       "      <th>pixel5</th>\n",
       "      <th>pixel6</th>\n",
       "      <th>pixel7</th>\n",
       "      <th>pixel8</th>\n",
       "      <th>...</th>\n",
       "      <th>pixel774</th>\n",
       "      <th>pixel775</th>\n",
       "      <th>pixel776</th>\n",
       "      <th>pixel777</th>\n",
       "      <th>pixel778</th>\n",
       "      <th>pixel779</th>\n",
       "      <th>pixel780</th>\n",
       "      <th>pixel781</th>\n",
       "      <th>pixel782</th>\n",
       "      <th>pixel783</th>\n",
       "    </tr>\n",
       "  </thead>\n",
       "  <tbody>\n",
       "    <tr>\n",
       "      <th>0</th>\n",
       "      <td>1</td>\n",
       "      <td>0</td>\n",
       "      <td>0</td>\n",
       "      <td>0</td>\n",
       "      <td>0</td>\n",
       "      <td>0</td>\n",
       "      <td>0</td>\n",
       "      <td>0</td>\n",
       "      <td>0</td>\n",
       "      <td>0</td>\n",
       "      <td>...</td>\n",
       "      <td>0</td>\n",
       "      <td>0</td>\n",
       "      <td>0</td>\n",
       "      <td>0</td>\n",
       "      <td>0</td>\n",
       "      <td>0</td>\n",
       "      <td>0</td>\n",
       "      <td>0</td>\n",
       "      <td>0</td>\n",
       "      <td>0</td>\n",
       "    </tr>\n",
       "    <tr>\n",
       "      <th>1</th>\n",
       "      <td>0</td>\n",
       "      <td>0</td>\n",
       "      <td>0</td>\n",
       "      <td>0</td>\n",
       "      <td>0</td>\n",
       "      <td>0</td>\n",
       "      <td>0</td>\n",
       "      <td>0</td>\n",
       "      <td>0</td>\n",
       "      <td>0</td>\n",
       "      <td>...</td>\n",
       "      <td>0</td>\n",
       "      <td>0</td>\n",
       "      <td>0</td>\n",
       "      <td>0</td>\n",
       "      <td>0</td>\n",
       "      <td>0</td>\n",
       "      <td>0</td>\n",
       "      <td>0</td>\n",
       "      <td>0</td>\n",
       "      <td>0</td>\n",
       "    </tr>\n",
       "    <tr>\n",
       "      <th>2</th>\n",
       "      <td>1</td>\n",
       "      <td>0</td>\n",
       "      <td>0</td>\n",
       "      <td>0</td>\n",
       "      <td>0</td>\n",
       "      <td>0</td>\n",
       "      <td>0</td>\n",
       "      <td>0</td>\n",
       "      <td>0</td>\n",
       "      <td>0</td>\n",
       "      <td>...</td>\n",
       "      <td>0</td>\n",
       "      <td>0</td>\n",
       "      <td>0</td>\n",
       "      <td>0</td>\n",
       "      <td>0</td>\n",
       "      <td>0</td>\n",
       "      <td>0</td>\n",
       "      <td>0</td>\n",
       "      <td>0</td>\n",
       "      <td>0</td>\n",
       "    </tr>\n",
       "    <tr>\n",
       "      <th>3</th>\n",
       "      <td>4</td>\n",
       "      <td>0</td>\n",
       "      <td>0</td>\n",
       "      <td>0</td>\n",
       "      <td>0</td>\n",
       "      <td>0</td>\n",
       "      <td>0</td>\n",
       "      <td>0</td>\n",
       "      <td>0</td>\n",
       "      <td>0</td>\n",
       "      <td>...</td>\n",
       "      <td>0</td>\n",
       "      <td>0</td>\n",
       "      <td>0</td>\n",
       "      <td>0</td>\n",
       "      <td>0</td>\n",
       "      <td>0</td>\n",
       "      <td>0</td>\n",
       "      <td>0</td>\n",
       "      <td>0</td>\n",
       "      <td>0</td>\n",
       "    </tr>\n",
       "    <tr>\n",
       "      <th>4</th>\n",
       "      <td>0</td>\n",
       "      <td>0</td>\n",
       "      <td>0</td>\n",
       "      <td>0</td>\n",
       "      <td>0</td>\n",
       "      <td>0</td>\n",
       "      <td>0</td>\n",
       "      <td>0</td>\n",
       "      <td>0</td>\n",
       "      <td>0</td>\n",
       "      <td>...</td>\n",
       "      <td>0</td>\n",
       "      <td>0</td>\n",
       "      <td>0</td>\n",
       "      <td>0</td>\n",
       "      <td>0</td>\n",
       "      <td>0</td>\n",
       "      <td>0</td>\n",
       "      <td>0</td>\n",
       "      <td>0</td>\n",
       "      <td>0</td>\n",
       "    </tr>\n",
       "  </tbody>\n",
       "</table>\n",
       "<p>5 rows × 785 columns</p>\n",
       "</div>"
      ],
      "text/plain": [
       "   label  pixel0  pixel1  pixel2  pixel3  pixel4  pixel5  pixel6  pixel7  \\\n",
       "0      1       0       0       0       0       0       0       0       0   \n",
       "1      0       0       0       0       0       0       0       0       0   \n",
       "2      1       0       0       0       0       0       0       0       0   \n",
       "3      4       0       0       0       0       0       0       0       0   \n",
       "4      0       0       0       0       0       0       0       0       0   \n",
       "\n",
       "   pixel8  ...  pixel774  pixel775  pixel776  pixel777  pixel778  pixel779  \\\n",
       "0       0  ...         0         0         0         0         0         0   \n",
       "1       0  ...         0         0         0         0         0         0   \n",
       "2       0  ...         0         0         0         0         0         0   \n",
       "3       0  ...         0         0         0         0         0         0   \n",
       "4       0  ...         0         0         0         0         0         0   \n",
       "\n",
       "   pixel780  pixel781  pixel782  pixel783  \n",
       "0         0         0         0         0  \n",
       "1         0         0         0         0  \n",
       "2         0         0         0         0  \n",
       "3         0         0         0         0  \n",
       "4         0         0         0         0  \n",
       "\n",
       "[5 rows x 785 columns]"
      ]
     },
     "execution_count": 4,
     "metadata": {},
     "output_type": "execute_result"
    }
   ],
   "source": [
    "df_train.head()"
   ]
  },
  {
   "cell_type": "code",
   "execution_count": 5,
   "id": "126d5a65-a588-4bdd-a647-7b7e22197418",
   "metadata": {},
   "outputs": [],
   "source": [
    "y_train = df_train['label']\n",
    "X_train = df_train.drop(columns=['label'])\n",
    "\n",
    "# Free some space\n",
    "del df_train"
   ]
  },
  {
   "cell_type": "code",
   "execution_count": 6,
   "id": "ebf373fb-b2d3-48fd-b51a-4c1df68caf56",
   "metadata": {},
   "outputs": [
    {
     "name": "stderr",
     "output_type": "stream",
     "text": [
      "C:\\Users\\Benjamin\\anaconda3\\envs\\dev\\lib\\site-packages\\seaborn\\_decorators.py:36: FutureWarning: Pass the following variable as a keyword arg: x. From version 0.12, the only valid positional argument will be `data`, and passing other arguments without an explicit keyword will result in an error or misinterpretation.\n",
      "  warnings.warn(\n"
     ]
    },
    {
     "data": {
      "text/plain": [
       "1    4684\n",
       "7    4401\n",
       "3    4351\n",
       "9    4188\n",
       "2    4177\n",
       "6    4137\n",
       "0    4132\n",
       "4    4072\n",
       "8    4063\n",
       "5    3795\n",
       "Name: label, dtype: int64"
      ]
     },
     "execution_count": 6,
     "metadata": {},
     "output_type": "execute_result"
    },
    {
     "data": {
      "image/png": "[encoded data removed]",
      "text/plain": [
       "<Figure size 432x288 with 1 Axes>"
      ]
     },
     "metadata": {},
     "output_type": "display_data"
    }
   ],
   "source": [
    "g = sns.countplot(y_train)\n",
    "y_train.value_counts()"
   ]
  },
  {
   "cell_type": "markdown",
   "id": "cf0eda57-c2e6-4938-93fb-e3095fb713c5",
   "metadata": {},
   "source": [
    "### 2.2 Check the null and missing values"
   ]
  },
  {
   "cell_type": "code",
   "execution_count": 7,
   "id": "959c0591-477f-4e0d-8c95-8051dde7ff12",
   "metadata": {},
   "outputs": [
    {
     "data": {
      "text/plain": [
       "count       784\n",
       "unique        1\n",
       "top       False\n",
       "freq        784\n",
       "dtype: object"
      ]
     },
     "execution_count": 7,
     "metadata": {},
     "output_type": "execute_result"
    }
   ],
   "source": [
    "X_train.isnull().any().describe()"
   ]
  },
  {
   "cell_type": "code",
   "execution_count": 8,
   "id": "75372cf9-afa7-4a57-a142-ef36f6a0a6b5",
   "metadata": {},
   "outputs": [
    {
     "data": {
      "text/plain": [
       "count       784\n",
       "unique        1\n",
       "top       False\n",
       "freq        784\n",
       "dtype: object"
      ]
     },
     "execution_count": 8,
     "metadata": {},
     "output_type": "execute_result"
    }
   ],
   "source": [
    "df_test.isnull().any().describe()"
   ]
  },
  {
   "cell_type": "markdown",
   "id": "8ff2d2fe-5b42-494b-aa43-152ab3c5fa8a",
   "metadata": {},
   "source": [
    "### 2.3 Normalization\n",
    "\n",
    "We perform a grayscale normalization to reduce the effect of illumination's differences.\n",
    "\n",
    "Moreover the CNN converg faster on [0..1] data than on [0..255]."
   ]
  },
  {
   "cell_type": "code",
   "execution_count": 9,
   "id": "584cdf3b-b4e2-4dc5-8fb5-aac9d9a291b3",
   "metadata": {},
   "outputs": [
    {
     "data": {
      "text/plain": [
       "count    42000.000000\n",
       "mean        57.809762\n",
       "std         95.899298\n",
       "min          0.000000\n",
       "25%          0.000000\n",
       "50%          0.000000\n",
       "75%         94.000000\n",
       "max        255.000000\n",
       "Name: pixel524, dtype: float64"
      ]
     },
     "execution_count": 9,
     "metadata": {},
     "output_type": "execute_result"
    }
   ],
   "source": [
    "X_train.pixel524.describe()"
   ]
  },
  {
   "cell_type": "code",
   "execution_count": 10,
   "id": "4725489f-13b4-4c59-a951-dcef50ca1990",
   "metadata": {},
   "outputs": [],
   "source": [
    "# Normalize the data\n",
    "X_train = X_train / 255.0\n",
    "df_test = df_test / 255.0"
   ]
  },
  {
   "cell_type": "code",
   "execution_count": 11,
   "id": "d02ada1d-3880-4107-803b-20e8d9eefb5c",
   "metadata": {},
   "outputs": [
    {
     "data": {
      "text/plain": [
       "count    42000.000000\n",
       "mean         0.226705\n",
       "std          0.376076\n",
       "min          0.000000\n",
       "25%          0.000000\n",
       "50%          0.000000\n",
       "75%          0.368627\n",
       "max          1.000000\n",
       "Name: pixel524, dtype: float64"
      ]
     },
     "execution_count": 11,
     "metadata": {},
     "output_type": "execute_result"
    }
   ],
   "source": [
    "X_train.pixel524.describe()"
   ]
  },
  {
   "cell_type": "markdown",
   "id": "77deae56-83fb-488d-9e66-ff89aa651b8a",
   "metadata": {},
   "source": [
    "### 2.4 Reshape"
   ]
  },
  {
   "cell_type": "code",
   "execution_count": 12,
   "id": "67a83d80-c924-45ae-8753-98661afb7e27",
   "metadata": {},
   "outputs": [],
   "source": [
    "# Reshape image in 3 dimensions (height = 28px, width = 28px , canal = 1)\n",
    "X_train = X_train.values.reshape(-1,28,28,1)\n",
    "df_test = df_test.values.reshape(-1,28,28,1)"
   ]
  },
  {
   "cell_type": "markdown",
   "id": "00aa19da-0bbd-4caa-83e6-6aae889ba2e3",
   "metadata": {},
   "source": [
    "Train and test images (28px x 28px) has been stock into pandas.Dataframe as 1D vectors of 784 values. We reshape all data to 28x28x1 3D matrices.\n",
    "\n",
    "Keras requires an extra dimension in the end which correspond to channels. MNIST images are gray scaled so it use only one channel. For RGB images, there is 3 channels, we would have reshaped 784px vectors to 28x28x3 3D matrices."
   ]
  },
  {
   "cell_type": "code",
   "execution_count": 13,
   "id": "aad43c5e-1b20-4b15-b8cd-f3e7681118cf",
   "metadata": {},
   "outputs": [
    {
     "data": {
      "text/plain": [
       "(42000, 28, 28, 1)"
      ]
     },
     "execution_count": 13,
     "metadata": {},
     "output_type": "execute_result"
    }
   ],
   "source": [
    "X_train.shape"
   ]
  },
  {
   "cell_type": "markdown",
   "id": "57bad0a8-b586-4dbc-bec6-b85d42bf0177",
   "metadata": {},
   "source": [
    "### 2.5 Label encoding"
   ]
  },
  {
   "cell_type": "code",
   "execution_count": 14,
   "id": "f4ba4740-4473-4ed4-8c04-af0b7cb8cb55",
   "metadata": {},
   "outputs": [],
   "source": [
    "y_train = to_categorical(y_train, num_classes=10)"
   ]
  },
  {
   "cell_type": "markdown",
   "id": "3b1a81b5-98b2-4f44-882e-8739704a49d0",
   "metadata": {},
   "source": [
    "### 2.6 Split training and validation set"
   ]
  },
  {
   "cell_type": "code",
   "execution_count": 15,
   "id": "8681bb58-2d4f-45a5-83ed-f8f998527a7f",
   "metadata": {},
   "outputs": [],
   "source": [
    "# Set the random seed\n",
    "random_seed = 2"
   ]
  },
  {
   "cell_type": "code",
   "execution_count": 16,
   "id": "68d61a9a-b427-4a0c-b5d6-fb58a91391fc",
   "metadata": {},
   "outputs": [],
   "source": [
    "# Split the train and the validation set for the fitting\n",
    "X_train, X_val, y_train, y_val = train_test_split(X_train, y_train, test_size=0.1, random_state=random_seed)"
   ]
  },
  {
   "cell_type": "code",
   "execution_count": 17,
   "id": "764a5c60-435a-494f-bdd0-f226e3b1ce39",
   "metadata": {},
   "outputs": [
    {
     "data": {
      "image/png": "[encoded data removed]",
      "text/plain": [
       "<Figure size 432x288 with 1 Axes>"
      ]
     },
     "metadata": {},
     "output_type": "display_data"
    }
   ],
   "source": [
    "# Visualize an image\n",
    "g = plt.imshow(X_train[0][:,:,0])"
   ]
  },
  {
   "cell_type": "markdown",
   "id": "bd1b8b56-3261-48f2-833e-29e6de2bf2e2",
   "metadata": {},
   "source": [
    "## 3. CNN"
   ]
  },
  {
   "cell_type": "markdown",
   "id": "47ad26a1-b486-4426-a1d6-6839509185a9",
   "metadata": {},
   "source": [
    "### 3.1 Define the model"
   ]
  },
  {
   "cell_type": "markdown",
   "id": "5c1a224a-774b-41bf-85fe-4afba3d6640e",
   "metadata": {},
   "source": [
    "We use the Keras sequential API to define a CNN.\n",
    "\n"
   ]
  },
  {
   "cell_type": "code",
   "execution_count": 18,
   "id": "2eb6ecd9-da26-4c43-8895-0a7ed90cbd98",
   "metadata": {},
   "outputs": [],
   "source": [
    "model = Sequential()\n",
    "\n",
    "model.add(Conv2D(filters=32, kernel_size=(5, 5), padding='Same', activation='relu', input_shape=(28, 28, 1)))\n",
    "model.add(Conv2D(filters=32, kernel_size=(5, 5), padding='Same', activation='relu'))\n",
    "model.add(MaxPool2D(pool_size=(2, 2)))\n",
    "model.add(Dropout(0.25))\n",
    "\n",
    "model.add(Conv2D(filters=64, kernel_size=(3, 3), padding='Same', activation='relu'))\n",
    "model.add(Conv2D(filters=64, kernel_size=(3, 3), padding='Same', activation='relu'))\n",
    "model.add(MaxPool2D(pool_size=(2, 2), strides=(2, 2)))\n",
    "model.add(Dropout(0.25))\n",
    "\n",
    "model.add(Flatten())\n",
    "model.add(Dense(256, activation='relu'))\n",
    "model.add(Dropout(0.5))\n",
    "model.add(Dense(10, activation='softmax'))"
   ]
  },
  {
   "cell_type": "markdown",
   "id": "20b0e939-13cc-42d0-81f2-4e79041ac8ec",
   "metadata": {},
   "source": [
    "### 3.2 Define optimizer and loss function"
   ]
  },
  {
   "cell_type": "code",
   "execution_count": 19,
   "id": "a0858667-151e-4a41-aaa0-b2e07e73efeb",
   "metadata": {},
   "outputs": [],
   "source": [
    "# Define the optimizer\n",
    "optimizer = RMSprop(lr=0.001, rho=0.9, epsilon=1e-08, decay=0.0)"
   ]
  },
  {
   "cell_type": "code",
   "execution_count": 20,
   "id": "4660f65f-a059-4b3b-b549-acc73d5ec4e8",
   "metadata": {},
   "outputs": [],
   "source": [
    "# Compile the model\n",
    "model.compile(optimizer=optimizer , loss='categorical_crossentropy', metrics=['accuracy'])"
   ]
  },
  {
   "cell_type": "code",
   "execution_count": 21,
   "id": "fa5cef00-0f7e-4ecc-a484-747fbbd12996",
   "metadata": {},
   "outputs": [],
   "source": [
    "# Set a learning rate annealer\n",
    "learning_rate_reduction = ReduceLROnPlateau(\n",
    "    monitor='val_acc',\n",
    "    patience=3,\n",
    "    verbose=1,\n",
    "    factor=0.5,\n",
    "    min_lr=0.00001\n",
    ")"
   ]
  },
  {
   "cell_type": "code",
   "execution_count": 22,
   "id": "1351dfbc-6a61-4fbe-8070-3791cbd3abbb",
   "metadata": {},
   "outputs": [],
   "source": [
    "epochs = 36\n",
    "batch_size = 86"
   ]
  },
  {
   "cell_type": "code",
   "execution_count": 23,
   "id": "b7f92bc1-ed6b-4d91-9f7c-46d68e717943",
   "metadata": {},
   "outputs": [
    {
     "name": "stdout",
     "output_type": "stream",
     "text": [
      "Epoch 1/36\n",
      "440/440 - 93s - loss: 0.2487 - accuracy: 0.9215 - val_loss: 0.0693 - val_accuracy: 0.9786\n",
      "Epoch 2/36\n",
      "440/440 - 91s - loss: 0.0724 - accuracy: 0.9779 - val_loss: 0.0492 - val_accuracy: 0.9871\n",
      "Epoch 3/36\n",
      "440/440 - 99s - loss: 0.0521 - accuracy: 0.9848 - val_loss: 0.0452 - val_accuracy: 0.9886\n",
      "Epoch 4/36\n",
      "440/440 - 103s - loss: 0.0434 - accuracy: 0.9862 - val_loss: 0.0420 - val_accuracy: 0.9881\n",
      "Epoch 5/36\n",
      "440/440 - 104s - loss: 0.0397 - accuracy: 0.9879 - val_loss: 0.0344 - val_accuracy: 0.9902\n",
      "Epoch 6/36\n",
      "440/440 - 103s - loss: 0.0358 - accuracy: 0.9894 - val_loss: 0.0507 - val_accuracy: 0.9902\n",
      "Epoch 7/36\n",
      "440/440 - 103s - loss: 0.0346 - accuracy: 0.9895 - val_loss: 0.0243 - val_accuracy: 0.9931\n",
      "Epoch 8/36\n",
      "440/440 - 105s - loss: 0.0324 - accuracy: 0.9903 - val_loss: 0.0299 - val_accuracy: 0.9931\n",
      "Epoch 9/36\n",
      "440/440 - 108s - loss: 0.0316 - accuracy: 0.9909 - val_loss: 0.0341 - val_accuracy: 0.9905\n",
      "Epoch 10/36\n",
      "440/440 - 103s - loss: 0.0294 - accuracy: 0.9915 - val_loss: 0.0474 - val_accuracy: 0.9862\n",
      "Epoch 11/36\n",
      "440/440 - 100s - loss: 0.0286 - accuracy: 0.9917 - val_loss: 0.0333 - val_accuracy: 0.9929\n",
      "Epoch 12/36\n",
      "440/440 - 99s - loss: 0.0260 - accuracy: 0.9928 - val_loss: 0.0304 - val_accuracy: 0.9931\n",
      "Epoch 13/36\n",
      "440/440 - 98s - loss: 0.0298 - accuracy: 0.9916 - val_loss: 0.0245 - val_accuracy: 0.9936\n",
      "Epoch 14/36\n",
      "440/440 - 101s - loss: 0.0267 - accuracy: 0.9922 - val_loss: 0.0371 - val_accuracy: 0.9919\n",
      "Epoch 15/36\n",
      "440/440 - 99s - loss: 0.0277 - accuracy: 0.9921 - val_loss: 0.0335 - val_accuracy: 0.9912\n",
      "Epoch 16/36\n",
      "440/440 - 101s - loss: 0.0283 - accuracy: 0.9928 - val_loss: 0.0281 - val_accuracy: 0.9926\n",
      "Epoch 17/36\n",
      "440/440 - 106s - loss: 0.0276 - accuracy: 0.9922 - val_loss: 0.0215 - val_accuracy: 0.9933\n",
      "Epoch 18/36\n",
      "440/440 - 96s - loss: 0.0281 - accuracy: 0.9927 - val_loss: 0.0252 - val_accuracy: 0.9926\n",
      "Epoch 19/36\n",
      "440/440 - 102s - loss: 0.0313 - accuracy: 0.9914 - val_loss: 0.0340 - val_accuracy: 0.9907\n",
      "Epoch 20/36\n",
      "440/440 - 99s - loss: 0.0310 - accuracy: 0.9920 - val_loss: 0.0263 - val_accuracy: 0.9926\n",
      "Epoch 21/36\n",
      "440/440 - 99s - loss: 0.0303 - accuracy: 0.9927 - val_loss: 0.0271 - val_accuracy: 0.9926\n",
      "Epoch 22/36\n",
      "440/440 - 101s - loss: 0.0324 - accuracy: 0.9920 - val_loss: 0.0409 - val_accuracy: 0.9931\n",
      "Epoch 23/36\n",
      "440/440 - 101s - loss: 0.0358 - accuracy: 0.9920 - val_loss: 0.0455 - val_accuracy: 0.9910\n",
      "Epoch 24/36\n",
      "440/440 - 101s - loss: 0.0327 - accuracy: 0.9916 - val_loss: 0.0479 - val_accuracy: 0.9883\n",
      "Epoch 25/36\n",
      "440/440 - 102s - loss: 0.0346 - accuracy: 0.9914 - val_loss: 0.0332 - val_accuracy: 0.9926\n",
      "Epoch 26/36\n",
      "440/440 - 101s - loss: 0.0370 - accuracy: 0.9910 - val_loss: 0.0346 - val_accuracy: 0.9926\n",
      "Epoch 27/36\n",
      "440/440 - 89s - loss: 0.0356 - accuracy: 0.9914 - val_loss: 0.0403 - val_accuracy: 0.9914\n",
      "Epoch 28/36\n",
      "440/440 - 89s - loss: 0.0358 - accuracy: 0.9916 - val_loss: 0.0408 - val_accuracy: 0.9910\n",
      "Epoch 29/36\n",
      "440/440 - 89s - loss: 0.0378 - accuracy: 0.9910 - val_loss: 0.0324 - val_accuracy: 0.9919\n",
      "Epoch 30/36\n",
      "440/440 - 100s - loss: 0.0418 - accuracy: 0.9904 - val_loss: 0.0345 - val_accuracy: 0.9907\n",
      "Epoch 31/36\n",
      "440/440 - 101s - loss: 0.0388 - accuracy: 0.9910 - val_loss: 0.0414 - val_accuracy: 0.9898\n",
      "Epoch 32/36\n",
      "440/440 - 101s - loss: 0.0418 - accuracy: 0.9911 - val_loss: 0.0269 - val_accuracy: 0.9940\n",
      "Epoch 33/36\n",
      "440/440 - 101s - loss: 0.0416 - accuracy: 0.9903 - val_loss: 0.0437 - val_accuracy: 0.9876\n",
      "Epoch 34/36\n",
      "440/440 - 101s - loss: 0.0408 - accuracy: 0.9905 - val_loss: 0.0324 - val_accuracy: 0.9924\n",
      "Epoch 35/36\n",
      "440/440 - 102s - loss: 0.0419 - accuracy: 0.9907 - val_loss: 0.0755 - val_accuracy: 0.9898\n",
      "Epoch 36/36\n",
      "440/440 - 92s - loss: 0.0408 - accuracy: 0.9903 - val_loss: 0.0657 - val_accuracy: 0.9890\n"
     ]
    }
   ],
   "source": [
    "# Run\n",
    "history = model.fit(\n",
    "    X_train, y_train, batch_size=batch_size, epochs=epochs, \n",
    "    validation_data=(X_val, y_val), verbose=2\n",
    ")"
   ]
  },
  {
   "cell_type": "markdown",
   "id": "a2e4dd69-874d-4325-8905-9d0c598adffb",
   "metadata": {},
   "source": [
    "### 3.3 Data augmentation"
   ]
  },
  {
   "cell_type": "markdown",
   "id": "63c398f6-b8c3-4594-872a-676aa6d06d91",
   "metadata": {},
   "source": [
    "In order to avoid overfitting problem, we need to expand artificially our handwritten digit dataset. We can make your existing dataset even larger. The idea is to alter the training data with small transformations to reproduce the variations occuring when someone is writing a digit.\n",
    "\n",
    "For example, the number is not centered The scale is not the same (some who write with big/small numbers) The image is rotated...\n",
    "\n",
    "Approaches that alter the training data in ways that change the array representation while keeping the label the same are known as data augmentation techniques. Some popular augmentations people use are grayscales, horizontal flips, vertical flips, random crops, color jitters, translations, rotations, and much more.\n",
    "\n",
    "By applying just a couple of these transformations to our training data, we can easily double or triple the number of training examples and create a very robust model.\n",
    "\n",
    "The improvement is important :\n",
    "\n",
    "* Without data augmentation i obtained an accuracy of 98.114%\n",
    "* With data augmentation i achieved 99.67% of accuracy"
   ]
  },
  {
   "cell_type": "code",
   "execution_count": 25,
   "id": "a2e469cd-785a-4310-ac96-f216072f3ccd",
   "metadata": {},
   "outputs": [],
   "source": [
    "# With data augmentation to prevent overfitting\n",
    "\n",
    "datagen = ImageDataGenerator(\n",
    "    featurewise_center=False,  # set input mean to 0 over the dataset\n",
    "    samplewise_center=False,  # set each sample mean to 0\n",
    "    featurewise_std_normalization=False,  # divide inputs by std of the dataset\n",
    "    samplewise_std_normalization=False,  # divide each input by its std\n",
    "    zca_whitening=False,  # apply ZCA whitening\n",
    "    rotation_range=10,  # randomly rotate images in the range (degrees, 0 to 180)\n",
    "    zoom_range=0.1, # Randomly zoom image \n",
    "    width_shift_range=0.1,  # randomly shift images horizontally (fraction of total width)\n",
    "    height_shift_range=0.1,  # randomly shift images vertically (fraction of total height)\n",
    "    horizontal_flip=False,  # randomly flip images\n",
    "    vertical_flip=False # randomly flip images\n",
    ")\n",
    "\n",
    "\n",
    "datagen.fit(X_train)"
   ]
  },
  {
   "cell_type": "markdown",
   "id": "01f2d2eb-fbe9-495a-8758-6507702a9150",
   "metadata": {},
   "source": [
    "For the data augmentation, i choosed to :\n",
    "\n",
    "* Randomly rotate some training images by 10 degrees\n",
    "* Randomly Zoom by 10% some training images\n",
    "* Randomly shift images horizontally by 10% of the width\n",
    "* Randomly shift images vertically by 10% of the height\n",
    "I did not apply a vertical_flip nor horizontal_flip since it could have lead to misclassify symetrical numbers such as 6 and 9.\n",
    "\n",
    "Once our model is ready, we fit the training dataset "
   ]
  },
  {
   "cell_type": "code",
   "execution_count": 27,
   "id": "8bb772c8-418e-44b1-884e-c1b6288e285b",
   "metadata": {},
   "outputs": [
    {
     "name": "stdout",
     "output_type": "stream",
     "text": [
      "WARNING:tensorflow:From <ipython-input-27-596637063d55>:2: Model.fit_generator (from tensorflow.python.keras.engine.training) is deprecated and will be removed in a future version.\n",
      "Instructions for updating:\n",
      "Please use Model.fit, which supports generators.\n",
      "Epoch 1/36\n",
      "WARNING:tensorflow:Reduce LR on plateau conditioned on metric `val_acc` which is not available. Available metrics are: loss,accuracy,val_loss,val_accuracy,lr\n",
      "439/439 - 100s - loss: 0.2169 - accuracy: 0.9471 - val_loss: 0.0613 - val_accuracy: 0.9905\n",
      "Epoch 2/36\n",
      "WARNING:tensorflow:Reduce LR on plateau conditioned on metric `val_acc` which is not available. Available metrics are: loss,accuracy,val_loss,val_accuracy,lr\n",
      "439/439 - 103s - loss: 0.1538 - accuracy: 0.9618 - val_loss: 0.0354 - val_accuracy: 0.9910\n",
      "Epoch 3/36\n",
      "WARNING:tensorflow:Reduce LR on plateau conditioned on metric `val_acc` which is not available. Available metrics are: loss,accuracy,val_loss,val_accuracy,lr\n",
      "439/439 - 112s - loss: 0.1329 - accuracy: 0.9668 - val_loss: 0.0433 - val_accuracy: 0.9919\n",
      "Epoch 4/36\n",
      "WARNING:tensorflow:Reduce LR on plateau conditioned on metric `val_acc` which is not available. Available metrics are: loss,accuracy,val_loss,val_accuracy,lr\n",
      "439/439 - 113s - loss: 0.1236 - accuracy: 0.9678 - val_loss: 0.0637 - val_accuracy: 0.9886\n",
      "Epoch 5/36\n",
      "WARNING:tensorflow:Reduce LR on plateau conditioned on metric `val_acc` which is not available. Available metrics are: loss,accuracy,val_loss,val_accuracy,lr\n",
      "439/439 - 111s - loss: 0.1192 - accuracy: 0.9700 - val_loss: 0.0525 - val_accuracy: 0.9883\n",
      "Epoch 6/36\n",
      "WARNING:tensorflow:Reduce LR on plateau conditioned on metric `val_acc` which is not available. Available metrics are: loss,accuracy,val_loss,val_accuracy,lr\n",
      "439/439 - 110s - loss: 0.1199 - accuracy: 0.9698 - val_loss: 0.0538 - val_accuracy: 0.9898\n",
      "Epoch 7/36\n",
      "WARNING:tensorflow:Reduce LR on plateau conditioned on metric `val_acc` which is not available. Available metrics are: loss,accuracy,val_loss,val_accuracy,lr\n",
      "439/439 - 104s - loss: 0.1228 - accuracy: 0.9696 - val_loss: 0.0322 - val_accuracy: 0.9917\n",
      "Epoch 8/36\n",
      "WARNING:tensorflow:Reduce LR on plateau conditioned on metric `val_acc` which is not available. Available metrics are: loss,accuracy,val_loss,val_accuracy,lr\n",
      "439/439 - 106s - loss: 0.1175 - accuracy: 0.9710 - val_loss: 0.0705 - val_accuracy: 0.9893\n",
      "Epoch 9/36\n",
      "WARNING:tensorflow:Reduce LR on plateau conditioned on metric `val_acc` which is not available. Available metrics are: loss,accuracy,val_loss,val_accuracy,lr\n",
      "439/439 - 103s - loss: 0.1120 - accuracy: 0.9724 - val_loss: 0.0528 - val_accuracy: 0.9879\n",
      "Epoch 10/36\n",
      "WARNING:tensorflow:Reduce LR on plateau conditioned on metric `val_acc` which is not available. Available metrics are: loss,accuracy,val_loss,val_accuracy,lr\n",
      "439/439 - 113s - loss: 0.1174 - accuracy: 0.9719 - val_loss: 0.0712 - val_accuracy: 0.9888\n",
      "Epoch 11/36\n",
      "WARNING:tensorflow:Reduce LR on plateau conditioned on metric `val_acc` which is not available. Available metrics are: loss,accuracy,val_loss,val_accuracy,lr\n",
      "439/439 - 102s - loss: 0.1152 - accuracy: 0.9726 - val_loss: 0.0416 - val_accuracy: 0.9890\n",
      "Epoch 12/36\n",
      "WARNING:tensorflow:Reduce LR on plateau conditioned on metric `val_acc` which is not available. Available metrics are: loss,accuracy,val_loss,val_accuracy,lr\n",
      "439/439 - 103s - loss: 0.1131 - accuracy: 0.9734 - val_loss: 0.0565 - val_accuracy: 0.9864\n",
      "Epoch 13/36\n",
      "WARNING:tensorflow:Reduce LR on plateau conditioned on metric `val_acc` which is not available. Available metrics are: loss,accuracy,val_loss,val_accuracy,lr\n",
      "439/439 - 102s - loss: 0.1114 - accuracy: 0.9744 - val_loss: 0.0474 - val_accuracy: 0.9895\n",
      "Epoch 14/36\n",
      "WARNING:tensorflow:Reduce LR on plateau conditioned on metric `val_acc` which is not available. Available metrics are: loss,accuracy,val_loss,val_accuracy,lr\n",
      "439/439 - 102s - loss: 0.1186 - accuracy: 0.9722 - val_loss: 0.0897 - val_accuracy: 0.9900\n",
      "Epoch 15/36\n",
      "WARNING:tensorflow:Reduce LR on plateau conditioned on metric `val_acc` which is not available. Available metrics are: loss,accuracy,val_loss,val_accuracy,lr\n",
      "439/439 - 102s - loss: 0.1145 - accuracy: 0.9718 - val_loss: 0.0442 - val_accuracy: 0.9883\n",
      "Epoch 16/36\n",
      "WARNING:tensorflow:Reduce LR on plateau conditioned on metric `val_acc` which is not available. Available metrics are: loss,accuracy,val_loss,val_accuracy,lr\n",
      "439/439 - 102s - loss: 0.1167 - accuracy: 0.9716 - val_loss: 0.0613 - val_accuracy: 0.9862\n",
      "Epoch 17/36\n",
      "WARNING:tensorflow:Reduce LR on plateau conditioned on metric `val_acc` which is not available. Available metrics are: loss,accuracy,val_loss,val_accuracy,lr\n",
      "439/439 - 107s - loss: 0.1125 - accuracy: 0.9727 - val_loss: 0.0719 - val_accuracy: 0.9895\n",
      "Epoch 18/36\n",
      "WARNING:tensorflow:Reduce LR on plateau conditioned on metric `val_acc` which is not available. Available metrics are: loss,accuracy,val_loss,val_accuracy,lr\n",
      "439/439 - 104s - loss: 0.1213 - accuracy: 0.9714 - val_loss: 0.0848 - val_accuracy: 0.9862\n",
      "Epoch 19/36\n",
      "WARNING:tensorflow:Reduce LR on plateau conditioned on metric `val_acc` which is not available. Available metrics are: loss,accuracy,val_loss,val_accuracy,lr\n",
      "439/439 - 104s - loss: 0.1248 - accuracy: 0.9726 - val_loss: 0.0744 - val_accuracy: 0.9905\n",
      "Epoch 20/36\n",
      "WARNING:tensorflow:Reduce LR on plateau conditioned on metric `val_acc` which is not available. Available metrics are: loss,accuracy,val_loss,val_accuracy,lr\n",
      "439/439 - 103s - loss: 0.1176 - accuracy: 0.9721 - val_loss: 0.0571 - val_accuracy: 0.9905\n",
      "Epoch 21/36\n",
      "WARNING:tensorflow:Reduce LR on plateau conditioned on metric `val_acc` which is not available. Available metrics are: loss,accuracy,val_loss,val_accuracy,lr\n",
      "439/439 - 104s - loss: 0.1218 - accuracy: 0.9728 - val_loss: 0.0553 - val_accuracy: 0.9867\n",
      "Epoch 22/36\n",
      "WARNING:tensorflow:Reduce LR on plateau conditioned on metric `val_acc` which is not available. Available metrics are: loss,accuracy,val_loss,val_accuracy,lr\n",
      "439/439 - 92s - loss: 0.1250 - accuracy: 0.9708 - val_loss: 0.0430 - val_accuracy: 0.9914\n",
      "Epoch 23/36\n",
      "WARNING:tensorflow:Reduce LR on plateau conditioned on metric `val_acc` which is not available. Available metrics are: loss,accuracy,val_loss,val_accuracy,lr\n",
      "439/439 - 93s - loss: 0.1255 - accuracy: 0.9716 - val_loss: 0.1121 - val_accuracy: 0.9881\n",
      "Epoch 24/36\n",
      "WARNING:tensorflow:Reduce LR on plateau conditioned on metric `val_acc` which is not available. Available metrics are: loss,accuracy,val_loss,val_accuracy,lr\n",
      "439/439 - 92s - loss: 0.1268 - accuracy: 0.9703 - val_loss: 0.0673 - val_accuracy: 0.9902\n",
      "Epoch 25/36\n",
      "WARNING:tensorflow:Reduce LR on plateau conditioned on metric `val_acc` which is not available. Available metrics are: loss,accuracy,val_loss,val_accuracy,lr\n",
      "439/439 - 92s - loss: 0.1267 - accuracy: 0.9713 - val_loss: 0.0596 - val_accuracy: 0.9888\n",
      "Epoch 26/36\n",
      "WARNING:tensorflow:Reduce LR on plateau conditioned on metric `val_acc` which is not available. Available metrics are: loss,accuracy,val_loss,val_accuracy,lr\n",
      "439/439 - 91s - loss: 0.1224 - accuracy: 0.9721 - val_loss: 0.0484 - val_accuracy: 0.9919\n",
      "Epoch 27/36\n",
      "WARNING:tensorflow:Reduce LR on plateau conditioned on metric `val_acc` which is not available. Available metrics are: loss,accuracy,val_loss,val_accuracy,lr\n",
      "439/439 - 92s - loss: 0.1203 - accuracy: 0.9720 - val_loss: 0.0922 - val_accuracy: 0.9855\n",
      "Epoch 28/36\n",
      "WARNING:tensorflow:Reduce LR on plateau conditioned on metric `val_acc` which is not available. Available metrics are: loss,accuracy,val_loss,val_accuracy,lr\n",
      "439/439 - 91s - loss: 0.1340 - accuracy: 0.9709 - val_loss: 0.0735 - val_accuracy: 0.9888\n",
      "Epoch 29/36\n",
      "WARNING:tensorflow:Reduce LR on plateau conditioned on metric `val_acc` which is not available. Available metrics are: loss,accuracy,val_loss,val_accuracy,lr\n",
      "439/439 - 93s - loss: 0.1293 - accuracy: 0.9711 - val_loss: 0.1663 - val_accuracy: 0.9881\n",
      "Epoch 30/36\n",
      "WARNING:tensorflow:Reduce LR on plateau conditioned on metric `val_acc` which is not available. Available metrics are: loss,accuracy,val_loss,val_accuracy,lr\n",
      "439/439 - 91s - loss: 0.1263 - accuracy: 0.9715 - val_loss: 0.0848 - val_accuracy: 0.9907\n",
      "Epoch 31/36\n",
      "WARNING:tensorflow:Reduce LR on plateau conditioned on metric `val_acc` which is not available. Available metrics are: loss,accuracy,val_loss,val_accuracy,lr\n",
      "439/439 - 91s - loss: 0.1289 - accuracy: 0.9712 - val_loss: 0.1510 - val_accuracy: 0.9855\n",
      "Epoch 32/36\n",
      "WARNING:tensorflow:Reduce LR on plateau conditioned on metric `val_acc` which is not available. Available metrics are: loss,accuracy,val_loss,val_accuracy,lr\n",
      "439/439 - 92s - loss: 0.1278 - accuracy: 0.9699 - val_loss: 0.0700 - val_accuracy: 0.9886\n",
      "Epoch 33/36\n",
      "WARNING:tensorflow:Reduce LR on plateau conditioned on metric `val_acc` which is not available. Available metrics are: loss,accuracy,val_loss,val_accuracy,lr\n",
      "439/439 - 92s - loss: 0.1260 - accuracy: 0.9719 - val_loss: 0.3044 - val_accuracy: 0.9840\n",
      "Epoch 34/36\n",
      "WARNING:tensorflow:Reduce LR on plateau conditioned on metric `val_acc` which is not available. Available metrics are: loss,accuracy,val_loss,val_accuracy,lr\n",
      "439/439 - 91s - loss: 0.1390 - accuracy: 0.9693 - val_loss: 0.1308 - val_accuracy: 0.9905\n",
      "Epoch 35/36\n",
      "WARNING:tensorflow:Reduce LR on plateau conditioned on metric `val_acc` which is not available. Available metrics are: loss,accuracy,val_loss,val_accuracy,lr\n",
      "439/439 - 92s - loss: 0.1355 - accuracy: 0.9706 - val_loss: 0.0586 - val_accuracy: 0.9886\n",
      "Epoch 36/36\n",
      "WARNING:tensorflow:Reduce LR on plateau conditioned on metric `val_acc` which is not available. Available metrics are: loss,accuracy,val_loss,val_accuracy,lr\n",
      "439/439 - 89s - loss: 0.1371 - accuracy: 0.9696 - val_loss: 0.0693 - val_accuracy: 0.9881\n"
     ]
    }
   ],
   "source": [
    "# Fit the model\n",
    "history = model.fit_generator(\n",
    "    datagen.flow(X_train, y_train, batch_size=batch_size),\n",
    "    epochs=epochs, validation_data=(X_val, y_val),\n",
    "    verbose=2, steps_per_epoch=X_train.shape[0] // batch_size,\n",
    "    callbacks=[learning_rate_reduction]\n",
    ")"
   ]
  },
  {
   "cell_type": "markdown",
   "id": "955b606a-1d40-4d50-a57c-b96670dea9b1",
   "metadata": {},
   "source": [
    "## 4. Evaluate the model"
   ]
  },
  {
   "cell_type": "markdown",
   "id": "df22224c-c5a7-4032-a102-05e374b0eae2",
   "metadata": {},
   "source": [
    "### 4.1 Training and validation curves"
   ]
  },
  {
   "cell_type": "code",
   "execution_count": 30,
   "id": "6297d6b8-4f05-4ea0-bcf9-8ea9b9d5dc88",
   "metadata": {},
   "outputs": [
    {
     "data": {
      "image/png": "[encoded data removed]",
      "text/plain": [
       "<Figure size 432x288 with 2 Axes>"
      ]
     },
     "metadata": {},
     "output_type": "display_data"
    }
   ],
   "source": [
    "# Plot the loss and accuracy curves for training and validation \n",
    "fig, ax = plt.subplots(2,1)\n",
    "ax[0].plot(history.history['loss'], color='b', label=\"Training loss\")\n",
    "ax[0].plot(history.history['val_loss'], color='r', label=\"validation loss\",axes =ax[0])\n",
    "legend = ax[0].legend(loc='best', shadow=True)\n",
    "\n",
    "ax[1].plot(history.history['accuracy'], color='b', label=\"Training accuracy\")\n",
    "ax[1].plot(history.history['val_accuracy'], color='r',label=\"Validation accuracy\")\n",
    "legend = ax[1].legend(loc='best', shadow=True)"
   ]
  },
  {
   "cell_type": "code",
   "execution_count": null,
   "id": "afe7e6da-0019-4081-ac52-54afe7251df3",
   "metadata": {},
   "outputs": [],
   "source": []
  }
 ],
 "metadata": {
  "kernelspec": {
   "display_name": "Python 3",
   "language": "python",
   "name": "python3"
  },
  "language_info": {
   "codemirror_mode": {
    "name": "ipython",
    "version": 3
   },
   "file_extension": ".py",
   "mimetype": "text/x-python",
   "name": "python",
   "nbconvert_exporter": "python",
   "pygments_lexer": "ipython3",
   "version": "3.8.10"
  }
 },
 "nbformat": 4,
 "nbformat_minor": 5
}
